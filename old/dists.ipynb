{
 "cells": [
  {
   "cell_type": "code",
   "execution_count": null,
   "id": "c8a18650",
   "metadata": {},
   "outputs": [
    {
     "name": "stdout",
     "output_type": "stream",
     "text": [
      "[]\n"
     ]
    }
   ],
   "source": [
    "import pandas as pd\n",
    "\n",
    "df = pd.read_csv('./data/BerlinZipCodes1.csv',encoding='unicode_escape', sep=';', usecols=['Neighborhood','ZIP'])\n",
    "\n",
    "\n",
    "output = []  # Initialize output as a list\n",
    "\n",
    "\n",
    "with open('your_file.txt', 'w') as f:\n",
    "    for i in range(len(df)):\n",
    "        f.write(f\"{df['Neighborhood'][i]} {df['ZIP'][i]}, Berlin \\n\")\n",
    "\n",
    "print(output)"
   ]
  }
 ],
 "metadata": {
  "kernelspec": {
   "display_name": ".venv",
   "language": "python",
   "name": "python3"
  },
  "language_info": {
   "codemirror_mode": {
    "name": "ipython",
    "version": 3
   },
   "file_extension": ".py",
   "mimetype": "text/x-python",
   "name": "python",
   "nbconvert_exporter": "python",
   "pygments_lexer": "ipython3",
   "version": "3.10.8"
  }
 },
 "nbformat": 4,
 "nbformat_minor": 5
}
